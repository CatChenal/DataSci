{
 "cells": [
  {
   "cell_type": "markdown",
   "metadata": {},
   "source": [
    "# Project 2 - Pandas for DS\n",
    "\n",
    "## Part 1 - Olympics data"
   ]
  },
  {
   "cell_type": "code",
   "execution_count": null,
   "metadata": {
    "collapsed": true
   },
   "outputs": [],
   "source": [
    "import pandas as pd"
   ]
  },
  {
   "cell_type": "code",
   "execution_count": 1,
   "metadata": {
    "collapsed": true,
    "nbgrader": {
     "grade": false,
     "grade_id": "1",
     "locked": false,
     "solution": false
    }
   },
   "outputs": [],
   "source": [
    "def get_olympics_df():\n",
    "    \"\"\"\n",
    "       The following code loads the olympics dataset (olympics.csv), which was derrived from the \n",
    "       Wikipedia entry (https://en.wikipedia.org/wiki/All-time_Olympic_Games_medal_table), \n",
    "       and does some basic data cleaning. \n",
    "       The columns are organized as \n",
    "           # of Summer games, Summer medals, # of Winter games, Winter medals, total # number of games, \n",
    "           total # of medals. Use this dataset to answer the questions below.\n",
    "    \"\"\"\n",
    "    df = pd.read_csv('./data/olympics.csv', index_col=0, skiprows=1)\n",
    "    df.drop('Totals', axis=0, inplace=True) # :: footer line\n",
    "    \n",
    "    for col in df.columns:\n",
    "        if col[:2]=='01':\n",
    "            df.rename(columns={col:'Gold'+col[4:]}, inplace=True)\n",
    "        if col[:2]=='02':\n",
    "            df.rename(columns={col:'Silver'+col[4:]}, inplace=True)\n",
    "        if col[:2]=='03':\n",
    "            df.rename(columns={col:'Bronze'+col[4:]}, inplace=True)\n",
    "        if col[:1]=='№':\n",
    "            df.rename(columns={col:'#'+col[1:]}, inplace=True)\n",
    "\n",
    "    names_ids = df.index.str.split('\\s\\(') # split the index by '('\n",
    "    df.index = names_ids.str[0] # the [0] element is the country name (new index) \n",
    "    # Next 1 unused: This would return the country abbreviation first 3 characters\n",
    "    #df['ID'] = names_ids.str[1].str[:3] \n",
    "    \n",
    "    # the first country can be retrieved using df.iloc[0]:\n",
    "    #   .iloc enables the access to values according to their position whereas\n",
    "    #   .loc does the same but requires the value of the index at that position\n",
    "\n",
    "    return df"
   ]
  },
  {
   "cell_type": "code",
   "execution_count": 2,
   "metadata": {},
   "outputs": [
    {
     "data": {
      "text/html": [
       "<div>\n",
       "<style>\n",
       "    .dataframe thead tr:only-child th {\n",
       "        text-align: right;\n",
       "    }\n",
       "\n",
       "    .dataframe thead th {\n",
       "        text-align: left;\n",
       "    }\n",
       "\n",
       "    .dataframe tbody tr th {\n",
       "        vertical-align: top;\n",
       "    }\n",
       "</style>\n",
       "<table border=\"1\" class=\"dataframe\">\n",
       "  <thead>\n",
       "    <tr style=\"text-align: right;\">\n",
       "      <th></th>\n",
       "      <th># Summer</th>\n",
       "      <th>Gold</th>\n",
       "      <th>Silver</th>\n",
       "      <th>Bronze</th>\n",
       "      <th>Total</th>\n",
       "      <th># Winter</th>\n",
       "      <th>Gold.1</th>\n",
       "      <th>Silver.1</th>\n",
       "      <th>Bronze.1</th>\n",
       "      <th>Total.1</th>\n",
       "      <th># Games</th>\n",
       "      <th>Gold.2</th>\n",
       "      <th>Silver.2</th>\n",
       "      <th>Bronze.2</th>\n",
       "      <th>Combined total</th>\n",
       "    </tr>\n",
       "  </thead>\n",
       "  <tbody>\n",
       "    <tr>\n",
       "      <th>Afghanistan</th>\n",
       "      <td>13</td>\n",
       "      <td>0</td>\n",
       "      <td>0</td>\n",
       "      <td>2</td>\n",
       "      <td>2</td>\n",
       "      <td>0</td>\n",
       "      <td>0</td>\n",
       "      <td>0</td>\n",
       "      <td>0</td>\n",
       "      <td>0</td>\n",
       "      <td>13</td>\n",
       "      <td>0</td>\n",
       "      <td>0</td>\n",
       "      <td>2</td>\n",
       "      <td>2</td>\n",
       "    </tr>\n",
       "    <tr>\n",
       "      <th>Algeria</th>\n",
       "      <td>12</td>\n",
       "      <td>5</td>\n",
       "      <td>2</td>\n",
       "      <td>8</td>\n",
       "      <td>15</td>\n",
       "      <td>3</td>\n",
       "      <td>0</td>\n",
       "      <td>0</td>\n",
       "      <td>0</td>\n",
       "      <td>0</td>\n",
       "      <td>15</td>\n",
       "      <td>5</td>\n",
       "      <td>2</td>\n",
       "      <td>8</td>\n",
       "      <td>15</td>\n",
       "    </tr>\n",
       "    <tr>\n",
       "      <th>Argentina</th>\n",
       "      <td>23</td>\n",
       "      <td>18</td>\n",
       "      <td>24</td>\n",
       "      <td>28</td>\n",
       "      <td>70</td>\n",
       "      <td>18</td>\n",
       "      <td>0</td>\n",
       "      <td>0</td>\n",
       "      <td>0</td>\n",
       "      <td>0</td>\n",
       "      <td>41</td>\n",
       "      <td>18</td>\n",
       "      <td>24</td>\n",
       "      <td>28</td>\n",
       "      <td>70</td>\n",
       "    </tr>\n",
       "    <tr>\n",
       "      <th>Armenia</th>\n",
       "      <td>5</td>\n",
       "      <td>1</td>\n",
       "      <td>2</td>\n",
       "      <td>9</td>\n",
       "      <td>12</td>\n",
       "      <td>6</td>\n",
       "      <td>0</td>\n",
       "      <td>0</td>\n",
       "      <td>0</td>\n",
       "      <td>0</td>\n",
       "      <td>11</td>\n",
       "      <td>1</td>\n",
       "      <td>2</td>\n",
       "      <td>9</td>\n",
       "      <td>12</td>\n",
       "    </tr>\n",
       "    <tr>\n",
       "      <th>Australasia</th>\n",
       "      <td>2</td>\n",
       "      <td>3</td>\n",
       "      <td>4</td>\n",
       "      <td>5</td>\n",
       "      <td>12</td>\n",
       "      <td>0</td>\n",
       "      <td>0</td>\n",
       "      <td>0</td>\n",
       "      <td>0</td>\n",
       "      <td>0</td>\n",
       "      <td>2</td>\n",
       "      <td>3</td>\n",
       "      <td>4</td>\n",
       "      <td>5</td>\n",
       "      <td>12</td>\n",
       "    </tr>\n",
       "  </tbody>\n",
       "</table>\n",
       "</div>"
      ],
      "text/plain": [
       "             # Summer  Gold  Silver  Bronze  Total  # Winter  Gold.1  \\\n",
       "Afghanistan        13     0       0       2      2         0       0   \n",
       "Algeria            12     5       2       8     15         3       0   \n",
       "Argentina          23    18      24      28     70        18       0   \n",
       "Armenia             5     1       2       9     12         6       0   \n",
       "Australasia         2     3       4       5     12         0       0   \n",
       "\n",
       "             Silver.1  Bronze.1  Total.1  # Games  Gold.2  Silver.2  Bronze.2  \\\n",
       "Afghanistan         0         0        0       13       0         0         2   \n",
       "Algeria             0         0        0       15       5         2         8   \n",
       "Argentina           0         0        0       41      18        24        28   \n",
       "Armenia             0         0        0       11       1         2         9   \n",
       "Australasia         0         0        0        2       3         4         5   \n",
       "\n",
       "             Combined total  \n",
       "Afghanistan               2  \n",
       "Algeria                  15  \n",
       "Argentina                70  \n",
       "Armenia                  12  \n",
       "Australasia              12  "
      ]
     },
     "execution_count": 2,
     "metadata": {},
     "output_type": "execute_result"
    }
   ],
   "source": [
    "df = get_olympics_df()\n",
    "df.head()"
   ]
  },
  {
   "cell_type": "code",
   "execution_count": 3,
   "metadata": {
    "nbgrader": {
     "grade": false,
     "locked": false,
     "solution": false
    }
   },
   "outputs": [
    {
     "data": {
      "text/plain": [
       "'United States'"
      ]
     },
     "execution_count": 3,
     "metadata": {},
     "output_type": "execute_result"
    }
   ],
   "source": [
    "def answer_one():\n",
    "    # Q: country has won the most gold medals in summer games?\n",
    "    # out: single string value\n",
    "    #\n",
    "    return df['Total'].argmax()\n",
    "\n",
    "answer_one()"
   ]
  },
  {
   "cell_type": "code",
   "execution_count": 4,
   "metadata": {},
   "outputs": [
    {
     "data": {
      "text/plain": [
       "'United States'"
      ]
     },
     "execution_count": 4,
     "metadata": {},
     "output_type": "execute_result"
    }
   ],
   "source": [
    "def answer_two():\n",
    "    # Q: country with the biggest difference between their summer and winter gold medal counts?\n",
    "    # out: single string\n",
    "    #\n",
    "    import numpy as np\n",
    "    df['Gold_diff'] = np.abs( df['Gold'] - df['Gold.1'] )\n",
    "    out = df['Gold_diff'].argmax()\n",
    "    return out \n",
    "\n",
    "answer_two()"
   ]
  },
  {
   "cell_type": "code",
   "execution_count": 5,
   "metadata": {},
   "outputs": [
    {
     "data": {
      "text/plain": [
       "'Bulgaria'"
      ]
     },
     "execution_count": 5,
     "metadata": {},
     "output_type": "execute_result"
    }
   ],
   "source": [
    "def answer_three():\n",
    "    # Q: country that has the biggest difference between its summer and winter gold medal count\n",
    "    #    relative to their total gold? Only include countries that have won at least 1 gold in \n",
    "    #    both summer and winter\n",
    "    # out: single string value\n",
    "    #\n",
    "    import numpy as np\n",
    "    \n",
    "    df2 = df.where( (df['Gold'] > 0) & (df['Gold.1'] >0) ) # at least 1 winter and summer gold\n",
    "    df2['Gold_diff2'] = ( df2['Gold'] - df2['Gold.1'] ) / ( df2['Gold'] + df2['Gold.1'] )\n",
    "    out = df2['Gold_diff2'].argmax()\n",
    "    return out\n",
    "\n",
    "answer_three()"
   ]
  },
  {
   "cell_type": "code",
   "execution_count": 6,
   "metadata": {},
   "outputs": [
    {
     "data": {
      "text/plain": [
       "Afghanistan                            2\n",
       "Algeria                               27\n",
       "Argentina                            130\n",
       "Armenia                               16\n",
       "Australasia                           22\n",
       "Australia                            923\n",
       "Austria                              569\n",
       "Azerbaijan                            43\n",
       "Bahamas                               24\n",
       "Bahrain                                1\n",
       "Barbados                               1\n",
       "Belarus                              154\n",
       "Belgium                              276\n",
       "Bermuda                                1\n",
       "Bohemia                                5\n",
       "Botswana                               2\n",
       "Brazil                               184\n",
       "British West Indies                    2\n",
       "Bulgaria                             411\n",
       "Burundi                                3\n",
       "Cameroon                              12\n",
       "Canada                               846\n",
       "Chile                                 24\n",
       "China                               1120\n",
       "Colombia                              29\n",
       "Costa Rica                             7\n",
       "Ivory Coast                            2\n",
       "Croatia                               67\n",
       "Cuba                                 420\n",
       "Cyprus                                 2\n",
       "                                    ... \n",
       "Spain                                268\n",
       "Sri Lanka                              4\n",
       "Sudan                                  2\n",
       "Suriname                               4\n",
       "Sweden                              1217\n",
       "Switzerland                          630\n",
       "Syria                                  6\n",
       "Chinese Taipei                        32\n",
       "Tajikistan                             4\n",
       "Tanzania                               4\n",
       "Thailand                              44\n",
       "Togo                                   1\n",
       "Tonga                                  2\n",
       "Trinidad and Tobago                   27\n",
       "Tunisia                               19\n",
       "Turkey                               191\n",
       "Uganda                                14\n",
       "Ukraine                              220\n",
       "United Arab Emirates                   3\n",
       "United States                       5684\n",
       "Uruguay                               16\n",
       "Uzbekistan                            38\n",
       "Venezuela                             18\n",
       "Vietnam                                4\n",
       "Virgin Islands                         2\n",
       "Yugoslavia                           171\n",
       "Independent Olympic Participants       4\n",
       "Zambia                                 3\n",
       "Zimbabwe                              18\n",
       "Mixed team                            38\n",
       "Length: 146, dtype: int64"
      ]
     },
     "execution_count": 6,
     "metadata": {},
     "output_type": "execute_result"
    }
   ],
   "source": [
    "def answer_four():\n",
    "    #Q: create a Series called \"Points\" which is a weighted value where: \n",
    "    # gold medal (Gold.2)->3 points, silver medals (Silver.2)->2 points, and bronze medals (Bronze.2) ->1 point\n",
    "    # out: a Series\n",
    "    #\n",
    "    Points = pd.Series( ( df['Gold.2']*3 + df['Silver.2']*2 + df['Bronze.2']) )\n",
    "    return Points\n",
    "\n",
    "answer_four()"
   ]
  },
  {
   "cell_type": "markdown",
   "metadata": {
    "collapsed": true
   },
   "source": [
    "## Part 2 - census data\n",
    "The census data originates from the [United States Census Bureau](http://www.census.gov/popest/data/counties/totals/2015/CO-EST2015-alldata.html). Counties are political and geographic subdivisions of states in the United States. This dataset contains population data for counties and states in the US from 2010 to 2015. [See this document](http://www.census.gov/popest/data/counties/totals/2015/files/CO-EST2015-alldata.pdf) for a description of the variable names."
   ]
  },
  {
   "cell_type": "code",
   "execution_count": 15,
   "metadata": {
    "collapsed": true
   },
   "outputs": [],
   "source": [
    "def get_census_df():\n",
    "    df = pd.read_csv('./data/census.csv')\n",
    "    return df"
   ]
  },
  {
   "cell_type": "code",
   "execution_count": 16,
   "metadata": {},
   "outputs": [
    {
     "data": {
      "text/plain": [
       "'Texas'"
      ]
     },
     "execution_count": 16,
     "metadata": {},
     "output_type": "execute_result"
    }
   ],
   "source": [
    "def answer_five():\n",
    "    # Q: state with the most counties?\n",
    "    # output: single string\n",
    "    #\n",
    "    census_df = get_census_df()\n",
    "    \n",
    "    # the SUMLEV variable has 2 values: 50 ('by county'), or 40 ('by state')\n",
    "    by_cty_df = census_df[census_df['SUMLEV']==50 ][['STNAME', 'CTYNAME']]\n",
    "    out = by_cty_df.groupby('STNAME').count()\n",
    "    out_sorted = out.sort_values( by='CTYNAME', ascending=False)[:1]\n",
    "    return out_sorted.index[0]\n",
    "        \n",
    "answer_five()"
   ]
  },
  {
   "cell_type": "code",
   "execution_count": 17,
   "metadata": {},
   "outputs": [
    {
     "data": {
      "text/plain": [
       "['Delaware', 'Connecticut', 'New Jersey']"
      ]
     },
     "execution_count": 17,
     "metadata": {},
     "output_type": "execute_result"
    }
   ],
   "source": [
    "def answer_six():\n",
    "    # Q: what are the three most populous states considering their 3 top most populous counties\n",
    "    # output: a list of string values\n",
    "    #\n",
    "    census_df = get_census_df()\n",
    "    \n",
    "    def top(df, n=3, column='CENSUS2010POP'):\n",
    "        return df.sort_values(by=column, ascending=False)[-n:]\n",
    "\n",
    "    by_cty_df = census_df[census_df['SUMLEV']==50 ][['STNAME', 'CENSUS2010POP']]\n",
    "    # take question literally & remove DC bc not a state?\n",
    "    \n",
    "    by_top3_cnties = by_cty_df.where(by_cty_df.STNAME != 'District of Columbia').groupby(['STNAME']).apply( top )\n",
    "    out = by_top3_cnties.sum(level='STNAME').sort_values( by='CENSUS2010POP', ascending=False)[:3]\n",
    "\n",
    "    return [out.index[0], out.index[1], out.index[2]]\n",
    "\n",
    "answer_six()"
   ]
  },
  {
   "cell_type": "code",
   "execution_count": 18,
   "metadata": {},
   "outputs": [
    {
     "data": {
      "text/plain": [
       "'Harris County'"
      ]
     },
     "execution_count": 18,
     "metadata": {},
     "output_type": "execute_result"
    }
   ],
   "source": [
    "def answer_seven():\n",
    "    # Q: county with the largest absolute change in population within the period 2010-2015?\n",
    "    #    -> use columns POPESTIMATE2010 through POPESTIMATE2015.\n",
    "    # out: single string value == the range of the row-wise series\n",
    "    #\n",
    "    census_df = get_census_df()\n",
    "\n",
    "    by_cty_df = census_df[census_df['SUMLEV']==50 ][ census_df.columns[[6, 9, 10, 11, 12, 13, 14]] ]\n",
    "\n",
    "    rng_cols = by_cty_df.columns[1:-1] #:: cols POPESTIMATE2010 through POPESTIMATE2015\n",
    "\n",
    "    by_cty_df['pop_diff'] = by_cty_df[rng_cols].max(axis=1) - by_cty_df[rng_cols].min(axis=1)\n",
    "    \n",
    "    return by_cty_df.loc[ by_cty_df['pop_diff'].argmax()]['CTYNAME']\n",
    "\n",
    "answer_seven()"
   ]
  },
  {
   "cell_type": "code",
   "execution_count": 14,
   "metadata": {},
   "outputs": [
    {
     "data": {
      "text/html": [
       "<div>\n",
       "<style>\n",
       "    .dataframe thead tr:only-child th {\n",
       "        text-align: right;\n",
       "    }\n",
       "\n",
       "    .dataframe thead th {\n",
       "        text-align: left;\n",
       "    }\n",
       "\n",
       "    .dataframe tbody tr th {\n",
       "        vertical-align: top;\n",
       "    }\n",
       "</style>\n",
       "<table border=\"1\" class=\"dataframe\">\n",
       "  <thead>\n",
       "    <tr style=\"text-align: right;\">\n",
       "      <th></th>\n",
       "      <th>STNAME</th>\n",
       "      <th>CTYNAME</th>\n",
       "    </tr>\n",
       "  </thead>\n",
       "  <tbody>\n",
       "    <tr>\n",
       "      <th>896</th>\n",
       "      <td>Iowa</td>\n",
       "      <td>Washington County</td>\n",
       "    </tr>\n",
       "    <tr>\n",
       "      <th>1419</th>\n",
       "      <td>Minnesota</td>\n",
       "      <td>Washington County</td>\n",
       "    </tr>\n",
       "    <tr>\n",
       "      <th>2345</th>\n",
       "      <td>Pennsylvania</td>\n",
       "      <td>Washington County</td>\n",
       "    </tr>\n",
       "    <tr>\n",
       "      <th>2355</th>\n",
       "      <td>Rhode Island</td>\n",
       "      <td>Washington County</td>\n",
       "    </tr>\n",
       "    <tr>\n",
       "      <th>3163</th>\n",
       "      <td>Wisconsin</td>\n",
       "      <td>Washington County</td>\n",
       "    </tr>\n",
       "  </tbody>\n",
       "</table>\n",
       "</div>"
      ],
      "text/plain": [
       "            STNAME            CTYNAME\n",
       "896           Iowa  Washington County\n",
       "1419     Minnesota  Washington County\n",
       "2345  Pennsylvania  Washington County\n",
       "2355  Rhode Island  Washington County\n",
       "3163     Wisconsin  Washington County"
      ]
     },
     "execution_count": 14,
     "metadata": {},
     "output_type": "execute_result"
    }
   ],
   "source": [
    "def answer_eight():\n",
    "    # Q: query to retrieve:\n",
    "    # the counties that belong to regions 1 OR 2, AND\n",
    "    # whose name starts with 'Washington', AND\n",
    "    # whose POPESTIMATE2015 > POPESTIMATE2014\n",
    "    # output: a 5x2 DataFrame with ['STNAME', 'CTYNAME'] \n",
    "    # columns and the same index ID as the census_df (sorted ascending by index).\n",
    "    #\n",
    "    census_df = get_census_df()\n",
    "    \n",
    "    qry_df = census_df[ census_df.REGION.isin([1, 2]) & \n",
    "                        census_df.CTYNAME.str.startswith('Washington') & \n",
    "                        (census_df.POPESTIMATE2015 > census_df.POPESTIMATE2014) ][['STNAME', 'CTYNAME']]\n",
    "    return qry_df\n",
    "\n",
    "answer_eight()"
   ]
  }
 ],
 "metadata": {
  "anaconda-cloud": {},
  "coursera": {
   "course_slug": "python-data-analysis",
   "graded_item_id": "tHmgx",
   "launcher_item_id": "Um6Bz",
   "part_id": "OQsnr"
  },
  "kernelspec": {
   "display_name": "Python [Root]",
   "language": "python",
   "name": "Python [Root]"
  },
  "language_info": {
   "codemirror_mode": {
    "name": "ipython",
    "version": 3
   },
   "file_extension": ".py",
   "mimetype": "text/x-python",
   "name": "python",
   "nbconvert_exporter": "python",
   "pygments_lexer": "ipython3",
   "version": "3.5.4"
  }
 },
 "nbformat": 4,
 "nbformat_minor": 1
}
